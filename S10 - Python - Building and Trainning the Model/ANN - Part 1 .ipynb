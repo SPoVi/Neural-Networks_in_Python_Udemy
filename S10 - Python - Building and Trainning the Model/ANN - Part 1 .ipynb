{
 "cells": [
  {
   "cell_type": "code",
   "execution_count": 2,
   "id": "ed79f323",
   "metadata": {},
   "outputs": [],
   "source": [
    "#Libraries\n",
    "import numpy as np\n",
    "import pandas as pd\n",
    "%matplotlib inline\n",
    "import matplotlib as mpl\n",
    "import matplotlib.pyplot as plt"
   ]
  },
  {
   "cell_type": "markdown",
   "id": "51a97f51",
   "metadata": {},
   "source": [
    "# Building an Image Classifier\n",
    "\n",
    "Firts install an import TensorFlow and Keras\n",
    "\n",
    "    pip install tensorflow==2.0.0"
   ]
  },
  {
   "cell_type": "code",
   "execution_count": 3,
   "id": "74275e58",
   "metadata": {},
   "outputs": [],
   "source": [
    "import tensorflow as tf\n",
    "from tensorflow import keras"
   ]
  },
  {
   "cell_type": "code",
   "execution_count": 4,
   "id": "036f8d21",
   "metadata": {},
   "outputs": [
    {
     "data": {
      "text/plain": [
       "'2.2.4-tf'"
      ]
     },
     "execution_count": 4,
     "metadata": {},
     "output_type": "execute_result"
    }
   ],
   "source": [
    "keras.__version__"
   ]
  },
  {
   "cell_type": "code",
   "execution_count": 5,
   "id": "b39feeb2",
   "metadata": {},
   "outputs": [
    {
     "data": {
      "text/plain": [
       "'2.0.0'"
      ]
     },
     "execution_count": 5,
     "metadata": {},
     "output_type": "execute_result"
    }
   ],
   "source": [
    "tf.__version__"
   ]
  },
  {
   "cell_type": "markdown",
   "id": "88845ea5",
   "metadata": {},
   "source": [
    "# 24. Image Classifier\n",
    "\n",
    "Link https://keras.io/api/datasets/fashion_mnist/\n",
    "\n",
    "Dataset of 60,000 28x28 graysacle iamges of 10 fashion categories, along with a test set of 10,000 images. The class labels are:"
   ]
  },
  {
   "cell_type": "code",
   "execution_count": 6,
   "id": "56beb781",
   "metadata": {},
   "outputs": [
    {
     "data": {
      "text/html": [
       "<div>\n",
       "<style scoped>\n",
       "    .dataframe tbody tr th:only-of-type {\n",
       "        vertical-align: middle;\n",
       "    }\n",
       "\n",
       "    .dataframe tbody tr th {\n",
       "        vertical-align: top;\n",
       "    }\n",
       "\n",
       "    .dataframe thead th {\n",
       "        text-align: right;\n",
       "    }\n",
       "</style>\n",
       "<table border=\"1\" class=\"dataframe\">\n",
       "  <thead>\n",
       "    <tr style=\"text-align: right;\">\n",
       "      <th></th>\n",
       "      <th>Label</th>\n",
       "      <th>Description</th>\n",
       "    </tr>\n",
       "  </thead>\n",
       "  <tbody>\n",
       "    <tr>\n",
       "      <th>0</th>\n",
       "      <td>0</td>\n",
       "      <td>T-shirts/Top</td>\n",
       "    </tr>\n",
       "    <tr>\n",
       "      <th>1</th>\n",
       "      <td>1</td>\n",
       "      <td>Trouser</td>\n",
       "    </tr>\n",
       "    <tr>\n",
       "      <th>2</th>\n",
       "      <td>2</td>\n",
       "      <td>Pullover</td>\n",
       "    </tr>\n",
       "    <tr>\n",
       "      <th>3</th>\n",
       "      <td>3</td>\n",
       "      <td>Dress</td>\n",
       "    </tr>\n",
       "    <tr>\n",
       "      <th>4</th>\n",
       "      <td>4</td>\n",
       "      <td>Coat</td>\n",
       "    </tr>\n",
       "    <tr>\n",
       "      <th>5</th>\n",
       "      <td>5</td>\n",
       "      <td>Sandal</td>\n",
       "    </tr>\n",
       "    <tr>\n",
       "      <th>6</th>\n",
       "      <td>6</td>\n",
       "      <td>Shirt</td>\n",
       "    </tr>\n",
       "    <tr>\n",
       "      <th>7</th>\n",
       "      <td>7</td>\n",
       "      <td>Sneaker</td>\n",
       "    </tr>\n",
       "    <tr>\n",
       "      <th>8</th>\n",
       "      <td>8</td>\n",
       "      <td>Bag</td>\n",
       "    </tr>\n",
       "    <tr>\n",
       "      <th>9</th>\n",
       "      <td>9</td>\n",
       "      <td>Ankle boot</td>\n",
       "    </tr>\n",
       "  </tbody>\n",
       "</table>\n",
       "</div>"
      ],
      "text/plain": [
       "  Label   Description\n",
       "0     0  T-shirts/Top\n",
       "1     1       Trouser\n",
       "2     2      Pullover\n",
       "3     3         Dress\n",
       "4     4          Coat\n",
       "5     5        Sandal\n",
       "6     6         Shirt\n",
       "7     7       Sneaker\n",
       "8     8           Bag\n",
       "9     9    Ankle boot"
      ]
     },
     "metadata": {},
     "output_type": "display_data"
    }
   ],
   "source": [
    "df = pd.DataFrame()\n",
    "label_list=[]\n",
    "for i in range(10):\n",
    "    label_list.append(str(i))\n",
    "    \n",
    "description_list = [\"T-shirts/Top\", \"Trouser\", \"Pullover\", \"Dress\", \"Coat\",\n",
    "              \"Sandal\", \"Shirt\", \"Sneaker\", \"Bag\", \"Ankle boot\"]\n",
    "\n",
    "df['Label'] = label_list\n",
    "df['Description'] = description_list\n",
    "\n",
    "#print(df)\n",
    "display(df)"
   ]
  },
  {
   "cell_type": "markdown",
   "id": "6754f970",
   "metadata": {},
   "source": [
    "#### Usage\n",
    "\n",
    "    from keras.datasets import fashion_mnist\n",
    ">(x_train, y_train), (x-test, y_test) = fashion_mnist.load_data()\n",
    "\n",
    "Returns 2 tuples:\n",
    "\n",
    "    1. x_train, x_test: unit8 array of grayscale image data with shape (num_samples, 28, 28)\n",
    "    \n",
    "    2. y_train, y_test: unit8 array of labels (integers in range 0-9) with shape(num_samples).\n"
   ]
  },
  {
   "cell_type": "code",
   "execution_count": 7,
   "id": "fa3bf741",
   "metadata": {},
   "outputs": [],
   "source": [
    "# Load data form Keras dataset\n",
    "fashion_mnist = keras.datasets.fashion_mnist\n",
    "(X_train_full, y_train_full), (X_test, y_test) = fashion_mnist.load_data()"
   ]
  },
  {
   "cell_type": "code",
   "execution_count": 8,
   "id": "82edc2fd",
   "metadata": {},
   "outputs": [
    {
     "data": {
      "text/plain": [
       "<matplotlib.image.AxesImage at 0x25b9cfefbc8>"
      ]
     },
     "execution_count": 8,
     "metadata": {},
     "output_type": "execute_result"
    },
    {
     "data": {
      "image/png": "[encoded data removed]",
      "text/plain": [
       "<Figure size 432x288 with 1 Axes>"
      ]
     },
     "metadata": {
      "needs_background": "light"
     },
     "output_type": "display_data"
    }
   ],
   "source": [
    "plt.imshow(X_train_full[1])"
   ]
  },
  {
   "cell_type": "code",
   "execution_count": 9,
   "id": "c17b82c4",
   "metadata": {},
   "outputs": [
    {
     "data": {
      "text/plain": [
       "0"
      ]
     },
     "execution_count": 9,
     "metadata": {},
     "output_type": "execute_result"
    }
   ],
   "source": [
    "y_train_full[1]"
   ]
  },
  {
   "cell_type": "code",
   "execution_count": 10,
   "id": "46283954",
   "metadata": {},
   "outputs": [
    {
     "data": {
      "text/plain": [
       "'T-shirts/Top'"
      ]
     },
     "execution_count": 10,
     "metadata": {},
     "output_type": "execute_result"
    }
   ],
   "source": [
    "# Saber a que clase pertenece\n",
    "description_list[y_train_full[1]]"
   ]
  },
  {
   "cell_type": "code",
   "execution_count": 11,
   "id": "b509f0d7",
   "metadata": {
    "scrolled": true
   },
   "outputs": [
    {
     "data": {
      "text/plain": [
       "array([[  0,   0,   0,   0,   0,   1,   0,   0,   0,   0,  41, 188, 103,\n",
       "         54,  48,  43,  87, 168, 133,  16,   0,   0,   0,   0,   0,   0,\n",
       "          0,   0],\n",
       "       [  0,   0,   0,   1,   0,   0,   0,  49, 136, 219, 216, 228, 236,\n",
       "        255, 255, 255, 255, 217, 215, 254, 231, 160,  45,   0,   0,   0,\n",
       "          0,   0],\n",
       "       [  0,   0,   0,   0,   0,  14, 176, 222, 224, 212, 203, 198, 196,\n",
       "        200, 215, 204, 202, 201, 201, 201, 209, 218, 224, 164,   0,   0,\n",
       "          0,   0],\n",
       "       [  0,   0,   0,   0,   0, 188, 219, 200, 198, 202, 198, 199, 199,\n",
       "        201, 196, 198, 198, 200, 200, 200, 200, 201, 200, 225,  41,   0,\n",
       "          0,   0],\n",
       "       [  0,   0,   0,   0,  51, 219, 199, 203, 203, 212, 238, 248, 250,\n",
       "        245, 249, 246, 247, 252, 248, 235, 207, 203, 203, 222, 140,   0,\n",
       "          0,   0],\n",
       "       [  0,   0,   0,   0, 116, 226, 206, 204, 207, 204, 101,  75,  47,\n",
       "         73,  48,  50,  45,  51,  63, 113, 222, 202, 206, 220, 224,   0,\n",
       "          0,   0],\n",
       "       [  0,   0,   0,   0, 200, 222, 209, 203, 215, 200,   0,  70,  98,\n",
       "          0, 103,  59,  68,  71,  49,   0, 219, 206, 214, 210, 250,  38,\n",
       "          0,   0],\n",
       "       [  0,   0,   0,   0, 247, 218, 212, 210, 215, 214,   0, 254, 243,\n",
       "        139, 255, 174, 251, 255, 205,   0, 215, 217, 214, 208, 220,  95,\n",
       "          0,   0],\n",
       "       [  0,   0,   0,  45, 226, 214, 214, 215, 224, 205,   0,  42,  35,\n",
       "         60,  16,  17,  12,  13,  70,   0, 189, 216, 212, 206, 212, 156,\n",
       "          0,   0],\n",
       "       [  0,   0,   0, 164, 235, 214, 211, 220, 216, 201,  52,  71,  89,\n",
       "         94,  83,  78,  70,  76,  92,  87, 206, 207, 222, 213, 219, 208,\n",
       "          0,   0],\n",
       "       [  0,   0,   0, 106, 187, 223, 237, 248, 211, 198, 252, 250, 248,\n",
       "        245, 248, 252, 253, 250, 252, 239, 201, 212, 225, 215, 193, 113,\n",
       "          0,   0],\n",
       "       [  0,   0,   0,   0,   0,  17,  54, 159, 222, 193, 208, 192, 197,\n",
       "        200, 200, 200, 200, 201, 203, 195, 210, 165,   0,   0,   0,   0,\n",
       "          0,   0],\n",
       "       [  0,   0,   0,   0,   0,   0,   0,  47, 225, 192, 214, 203, 206,\n",
       "        204, 204, 205, 206, 204, 212, 197, 218, 107,   0,   0,   0,   0,\n",
       "          0,   0],\n",
       "       [  0,   0,   0,   0,   1,   6,   0,  46, 212, 195, 212, 202, 206,\n",
       "        205, 204, 205, 206, 204, 212, 200, 218,  91,   0,   3,   1,   0,\n",
       "          0,   0],\n",
       "       [  0,   0,   0,   0,   0,   1,   0,  11, 197, 199, 205, 202, 205,\n",
       "        206, 204, 205, 207, 204, 205, 205, 218,  77,   0,   5,   0,   0,\n",
       "          0,   0],\n",
       "       [  0,   0,   0,   0,   0,   3,   0,   2, 191, 198, 201, 205, 206,\n",
       "        205, 205, 206, 209, 206, 199, 209, 219,  74,   0,   5,   0,   0,\n",
       "          0,   0],\n",
       "       [  0,   0,   0,   0,   0,   2,   0,   0, 188, 197, 200, 207, 207,\n",
       "        204, 207, 207, 210, 208, 198, 207, 221,  72,   0,   4,   0,   0,\n",
       "          0,   0],\n",
       "       [  0,   0,   0,   0,   0,   2,   0,   0, 215, 198, 203, 206, 208,\n",
       "        205, 207, 207, 210, 208, 200, 202, 222,  75,   0,   4,   0,   0,\n",
       "          0,   0],\n",
       "       [  0,   0,   0,   0,   0,   1,   0,   0, 212, 198, 209, 206, 209,\n",
       "        206, 208, 207, 211, 206, 205, 198, 221,  80,   0,   3,   0,   0,\n",
       "          0,   0],\n",
       "       [  0,   0,   0,   0,   0,   1,   0,   0, 204, 201, 205, 208, 207,\n",
       "        205, 211, 205, 210, 210, 209, 195, 221,  96,   0,   3,   0,   0,\n",
       "          0,   0],\n",
       "       [  0,   0,   0,   0,   0,   1,   0,   0, 202, 201, 205, 209, 207,\n",
       "        205, 213, 206, 210, 209, 210, 194, 217, 105,   0,   2,   0,   0,\n",
       "          0,   0],\n",
       "       [  0,   0,   0,   0,   0,   1,   0,   0, 204, 204, 205, 208, 207,\n",
       "        205, 215, 207, 210, 208, 211, 193, 213, 115,   0,   2,   0,   0,\n",
       "          0,   0],\n",
       "       [  0,   0,   0,   0,   0,   0,   0,   0, 204, 207, 207, 208, 206,\n",
       "        206, 215, 210, 210, 207, 212, 195, 210, 118,   0,   2,   0,   0,\n",
       "          0,   0],\n",
       "       [  0,   0,   0,   0,   0,   1,   0,   0, 198, 208, 208, 208, 204,\n",
       "        207, 212, 212, 210, 207, 211, 196, 207, 121,   0,   1,   0,   0,\n",
       "          0,   0],\n",
       "       [  0,   0,   0,   0,   0,   1,   0,   0, 198, 210, 207, 208, 206,\n",
       "        209, 213, 212, 211, 207, 210, 197, 207, 124,   0,   1,   0,   0,\n",
       "          0,   0],\n",
       "       [  0,   0,   0,   0,   0,   0,   0,   0, 172, 210, 203, 201, 199,\n",
       "        204, 207, 205, 204, 201, 205, 197, 206, 127,   0,   0,   0,   0,\n",
       "          0,   0],\n",
       "       [  0,   0,   0,   0,   0,   0,   0,   0, 188, 221, 214, 234, 236,\n",
       "        238, 244, 244, 244, 240, 243, 214, 224, 162,   0,   2,   0,   0,\n",
       "          0,   0],\n",
       "       [  0,   0,   0,   0,   0,   1,   0,   0, 139, 146, 130, 135, 135,\n",
       "        137, 125, 124, 125, 121, 119, 114, 130,  76,   0,   0,   0,   0,\n",
       "          0,   0]], dtype=uint8)"
      ]
     },
     "execution_count": 11,
     "metadata": {},
     "output_type": "execute_result"
    }
   ],
   "source": [
    "X_train_full[1]"
   ]
  },
  {
   "cell_type": "markdown",
   "id": "70534afb",
   "metadata": {},
   "source": [
    "# 25. Data Normalization and Test-train split\n",
    "\n",
    "We then normalize the data dimensions so that they are of approximately the same scale"
   ]
  },
  {
   "cell_type": "code",
   "execution_count": 12,
   "id": "f829c19f",
   "metadata": {},
   "outputs": [],
   "source": [
    "X_train_n = X_train_full / 255\n",
    "X_test_n = X_test /255"
   ]
  },
  {
   "cell_type": "markdown",
   "id": "64ffe886",
   "metadata": {},
   "source": [
    "#### Split the data into train/validation/test datasets\n",
    "\n",
    "In the earlier step of importing the date, we had 60,000 datasets for training and 10,000 test datasets. Now we further split the training data into tran/validation. Here is how each type of dataset is used in DL:\n",
    "\n",
    "- __Training data__ : used for training the model\n",
    "- __Validation data__: used for tunning the hyperparameters and evaluate the models\n",
    "- __Test data__ : used to test the model after the model has gone through initial vetting by the validation set."
   ]
  },
  {
   "cell_type": "code",
   "execution_count": 13,
   "id": "bcaa2607",
   "metadata": {},
   "outputs": [],
   "source": [
    "X_valid, X_train = X_train_n[:5000], X_train_n[5000:]\n",
    "y_valid, y_train = y_train_full[:5000], y_train_full[5000:]\n",
    "X_test = X_test_n"
   ]
  },
  {
   "cell_type": "code",
   "execution_count": 14,
   "id": "8ad56d07",
   "metadata": {},
   "outputs": [
    {
     "data": {
      "text/plain": [
       "array([[0.        , 0.        , 0.        , 0.        , 0.        ,\n",
       "        0.00392157, 0.        , 0.        , 0.        , 0.        ,\n",
       "        0.16078431, 0.7372549 , 0.40392157, 0.21176471, 0.18823529,\n",
       "        0.16862745, 0.34117647, 0.65882353, 0.52156863, 0.0627451 ,\n",
       "        0.        , 0.        , 0.        , 0.        , 0.        ,\n",
       "        0.        , 0.        , 0.        ],\n",
       "       [0.        , 0.        , 0.        , 0.00392157, 0.        ,\n",
       "        0.        , 0.        , 0.19215686, 0.53333333, 0.85882353,\n",
       "        0.84705882, 0.89411765, 0.9254902 , 1.        , 1.        ,\n",
       "        1.        , 1.        , 0.85098039, 0.84313725, 0.99607843,\n",
       "        0.90588235, 0.62745098, 0.17647059, 0.        , 0.        ,\n",
       "        0.        , 0.        , 0.        ],\n",
       "       [0.        , 0.        , 0.        , 0.        , 0.        ,\n",
       "        0.05490196, 0.69019608, 0.87058824, 0.87843137, 0.83137255,\n",
       "        0.79607843, 0.77647059, 0.76862745, 0.78431373, 0.84313725,\n",
       "        0.8       , 0.79215686, 0.78823529, 0.78823529, 0.78823529,\n",
       "        0.81960784, 0.85490196, 0.87843137, 0.64313725, 0.        ,\n",
       "        0.        , 0.        , 0.        ],\n",
       "       [0.        , 0.        , 0.        , 0.        , 0.        ,\n",
       "        0.7372549 , 0.85882353, 0.78431373, 0.77647059, 0.79215686,\n",
       "        0.77647059, 0.78039216, 0.78039216, 0.78823529, 0.76862745,\n",
       "        0.77647059, 0.77647059, 0.78431373, 0.78431373, 0.78431373,\n",
       "        0.78431373, 0.78823529, 0.78431373, 0.88235294, 0.16078431,\n",
       "        0.        , 0.        , 0.        ],\n",
       "       [0.        , 0.        , 0.        , 0.        , 0.2       ,\n",
       "        0.85882353, 0.78039216, 0.79607843, 0.79607843, 0.83137255,\n",
       "        0.93333333, 0.97254902, 0.98039216, 0.96078431, 0.97647059,\n",
       "        0.96470588, 0.96862745, 0.98823529, 0.97254902, 0.92156863,\n",
       "        0.81176471, 0.79607843, 0.79607843, 0.87058824, 0.54901961,\n",
       "        0.        , 0.        , 0.        ],\n",
       "       [0.        , 0.        , 0.        , 0.        , 0.45490196,\n",
       "        0.88627451, 0.80784314, 0.8       , 0.81176471, 0.8       ,\n",
       "        0.39607843, 0.29411765, 0.18431373, 0.28627451, 0.18823529,\n",
       "        0.19607843, 0.17647059, 0.2       , 0.24705882, 0.44313725,\n",
       "        0.87058824, 0.79215686, 0.80784314, 0.8627451 , 0.87843137,\n",
       "        0.        , 0.        , 0.        ],\n",
       "       [0.        , 0.        , 0.        , 0.        , 0.78431373,\n",
       "        0.87058824, 0.81960784, 0.79607843, 0.84313725, 0.78431373,\n",
       "        0.        , 0.2745098 , 0.38431373, 0.        , 0.40392157,\n",
       "        0.23137255, 0.26666667, 0.27843137, 0.19215686, 0.        ,\n",
       "        0.85882353, 0.80784314, 0.83921569, 0.82352941, 0.98039216,\n",
       "        0.14901961, 0.        , 0.        ],\n",
       "       [0.        , 0.        , 0.        , 0.        , 0.96862745,\n",
       "        0.85490196, 0.83137255, 0.82352941, 0.84313725, 0.83921569,\n",
       "        0.        , 0.99607843, 0.95294118, 0.54509804, 1.        ,\n",
       "        0.68235294, 0.98431373, 1.        , 0.80392157, 0.        ,\n",
       "        0.84313725, 0.85098039, 0.83921569, 0.81568627, 0.8627451 ,\n",
       "        0.37254902, 0.        , 0.        ],\n",
       "       [0.        , 0.        , 0.        , 0.17647059, 0.88627451,\n",
       "        0.83921569, 0.83921569, 0.84313725, 0.87843137, 0.80392157,\n",
       "        0.        , 0.16470588, 0.1372549 , 0.23529412, 0.0627451 ,\n",
       "        0.06666667, 0.04705882, 0.05098039, 0.2745098 , 0.        ,\n",
       "        0.74117647, 0.84705882, 0.83137255, 0.80784314, 0.83137255,\n",
       "        0.61176471, 0.        , 0.        ],\n",
       "       [0.        , 0.        , 0.        , 0.64313725, 0.92156863,\n",
       "        0.83921569, 0.82745098, 0.8627451 , 0.84705882, 0.78823529,\n",
       "        0.20392157, 0.27843137, 0.34901961, 0.36862745, 0.3254902 ,\n",
       "        0.30588235, 0.2745098 , 0.29803922, 0.36078431, 0.34117647,\n",
       "        0.80784314, 0.81176471, 0.87058824, 0.83529412, 0.85882353,\n",
       "        0.81568627, 0.        , 0.        ],\n",
       "       [0.        , 0.        , 0.        , 0.41568627, 0.73333333,\n",
       "        0.8745098 , 0.92941176, 0.97254902, 0.82745098, 0.77647059,\n",
       "        0.98823529, 0.98039216, 0.97254902, 0.96078431, 0.97254902,\n",
       "        0.98823529, 0.99215686, 0.98039216, 0.98823529, 0.9372549 ,\n",
       "        0.78823529, 0.83137255, 0.88235294, 0.84313725, 0.75686275,\n",
       "        0.44313725, 0.        , 0.        ],\n",
       "       [0.        , 0.        , 0.        , 0.        , 0.        ,\n",
       "        0.06666667, 0.21176471, 0.62352941, 0.87058824, 0.75686275,\n",
       "        0.81568627, 0.75294118, 0.77254902, 0.78431373, 0.78431373,\n",
       "        0.78431373, 0.78431373, 0.78823529, 0.79607843, 0.76470588,\n",
       "        0.82352941, 0.64705882, 0.        , 0.        , 0.        ,\n",
       "        0.        , 0.        , 0.        ],\n",
       "       [0.        , 0.        , 0.        , 0.        , 0.        ,\n",
       "        0.        , 0.        , 0.18431373, 0.88235294, 0.75294118,\n",
       "        0.83921569, 0.79607843, 0.80784314, 0.8       , 0.8       ,\n",
       "        0.80392157, 0.80784314, 0.8       , 0.83137255, 0.77254902,\n",
       "        0.85490196, 0.41960784, 0.        , 0.        , 0.        ,\n",
       "        0.        , 0.        , 0.        ],\n",
       "       [0.        , 0.        , 0.        , 0.        , 0.00392157,\n",
       "        0.02352941, 0.        , 0.18039216, 0.83137255, 0.76470588,\n",
       "        0.83137255, 0.79215686, 0.80784314, 0.80392157, 0.8       ,\n",
       "        0.80392157, 0.80784314, 0.8       , 0.83137255, 0.78431373,\n",
       "        0.85490196, 0.35686275, 0.        , 0.01176471, 0.00392157,\n",
       "        0.        , 0.        , 0.        ],\n",
       "       [0.        , 0.        , 0.        , 0.        , 0.        ,\n",
       "        0.00392157, 0.        , 0.04313725, 0.77254902, 0.78039216,\n",
       "        0.80392157, 0.79215686, 0.80392157, 0.80784314, 0.8       ,\n",
       "        0.80392157, 0.81176471, 0.8       , 0.80392157, 0.80392157,\n",
       "        0.85490196, 0.30196078, 0.        , 0.01960784, 0.        ,\n",
       "        0.        , 0.        , 0.        ],\n",
       "       [0.        , 0.        , 0.        , 0.        , 0.        ,\n",
       "        0.01176471, 0.        , 0.00784314, 0.74901961, 0.77647059,\n",
       "        0.78823529, 0.80392157, 0.80784314, 0.80392157, 0.80392157,\n",
       "        0.80784314, 0.81960784, 0.80784314, 0.78039216, 0.81960784,\n",
       "        0.85882353, 0.29019608, 0.        , 0.01960784, 0.        ,\n",
       "        0.        , 0.        , 0.        ],\n",
       "       [0.        , 0.        , 0.        , 0.        , 0.        ,\n",
       "        0.00784314, 0.        , 0.        , 0.7372549 , 0.77254902,\n",
       "        0.78431373, 0.81176471, 0.81176471, 0.8       , 0.81176471,\n",
       "        0.81176471, 0.82352941, 0.81568627, 0.77647059, 0.81176471,\n",
       "        0.86666667, 0.28235294, 0.        , 0.01568627, 0.        ,\n",
       "        0.        , 0.        , 0.        ],\n",
       "       [0.        , 0.        , 0.        , 0.        , 0.        ,\n",
       "        0.00784314, 0.        , 0.        , 0.84313725, 0.77647059,\n",
       "        0.79607843, 0.80784314, 0.81568627, 0.80392157, 0.81176471,\n",
       "        0.81176471, 0.82352941, 0.81568627, 0.78431373, 0.79215686,\n",
       "        0.87058824, 0.29411765, 0.        , 0.01568627, 0.        ,\n",
       "        0.        , 0.        , 0.        ],\n",
       "       [0.        , 0.        , 0.        , 0.        , 0.        ,\n",
       "        0.00392157, 0.        , 0.        , 0.83137255, 0.77647059,\n",
       "        0.81960784, 0.80784314, 0.81960784, 0.80784314, 0.81568627,\n",
       "        0.81176471, 0.82745098, 0.80784314, 0.80392157, 0.77647059,\n",
       "        0.86666667, 0.31372549, 0.        , 0.01176471, 0.        ,\n",
       "        0.        , 0.        , 0.        ],\n",
       "       [0.        , 0.        , 0.        , 0.        , 0.        ,\n",
       "        0.00392157, 0.        , 0.        , 0.8       , 0.78823529,\n",
       "        0.80392157, 0.81568627, 0.81176471, 0.80392157, 0.82745098,\n",
       "        0.80392157, 0.82352941, 0.82352941, 0.81960784, 0.76470588,\n",
       "        0.86666667, 0.37647059, 0.        , 0.01176471, 0.        ,\n",
       "        0.        , 0.        , 0.        ],\n",
       "       [0.        , 0.        , 0.        , 0.        , 0.        ,\n",
       "        0.00392157, 0.        , 0.        , 0.79215686, 0.78823529,\n",
       "        0.80392157, 0.81960784, 0.81176471, 0.80392157, 0.83529412,\n",
       "        0.80784314, 0.82352941, 0.81960784, 0.82352941, 0.76078431,\n",
       "        0.85098039, 0.41176471, 0.        , 0.00784314, 0.        ,\n",
       "        0.        , 0.        , 0.        ],\n",
       "       [0.        , 0.        , 0.        , 0.        , 0.        ,\n",
       "        0.00392157, 0.        , 0.        , 0.8       , 0.8       ,\n",
       "        0.80392157, 0.81568627, 0.81176471, 0.80392157, 0.84313725,\n",
       "        0.81176471, 0.82352941, 0.81568627, 0.82745098, 0.75686275,\n",
       "        0.83529412, 0.45098039, 0.        , 0.00784314, 0.        ,\n",
       "        0.        , 0.        , 0.        ],\n",
       "       [0.        , 0.        , 0.        , 0.        , 0.        ,\n",
       "        0.        , 0.        , 0.        , 0.8       , 0.81176471,\n",
       "        0.81176471, 0.81568627, 0.80784314, 0.80784314, 0.84313725,\n",
       "        0.82352941, 0.82352941, 0.81176471, 0.83137255, 0.76470588,\n",
       "        0.82352941, 0.4627451 , 0.        , 0.00784314, 0.        ,\n",
       "        0.        , 0.        , 0.        ],\n",
       "       [0.        , 0.        , 0.        , 0.        , 0.        ,\n",
       "        0.00392157, 0.        , 0.        , 0.77647059, 0.81568627,\n",
       "        0.81568627, 0.81568627, 0.8       , 0.81176471, 0.83137255,\n",
       "        0.83137255, 0.82352941, 0.81176471, 0.82745098, 0.76862745,\n",
       "        0.81176471, 0.4745098 , 0.        , 0.00392157, 0.        ,\n",
       "        0.        , 0.        , 0.        ],\n",
       "       [0.        , 0.        , 0.        , 0.        , 0.        ,\n",
       "        0.00392157, 0.        , 0.        , 0.77647059, 0.82352941,\n",
       "        0.81176471, 0.81568627, 0.80784314, 0.81960784, 0.83529412,\n",
       "        0.83137255, 0.82745098, 0.81176471, 0.82352941, 0.77254902,\n",
       "        0.81176471, 0.48627451, 0.        , 0.00392157, 0.        ,\n",
       "        0.        , 0.        , 0.        ],\n",
       "       [0.        , 0.        , 0.        , 0.        , 0.        ,\n",
       "        0.        , 0.        , 0.        , 0.6745098 , 0.82352941,\n",
       "        0.79607843, 0.78823529, 0.78039216, 0.8       , 0.81176471,\n",
       "        0.80392157, 0.8       , 0.78823529, 0.80392157, 0.77254902,\n",
       "        0.80784314, 0.49803922, 0.        , 0.        , 0.        ,\n",
       "        0.        , 0.        , 0.        ],\n",
       "       [0.        , 0.        , 0.        , 0.        , 0.        ,\n",
       "        0.        , 0.        , 0.        , 0.7372549 , 0.86666667,\n",
       "        0.83921569, 0.91764706, 0.9254902 , 0.93333333, 0.95686275,\n",
       "        0.95686275, 0.95686275, 0.94117647, 0.95294118, 0.83921569,\n",
       "        0.87843137, 0.63529412, 0.        , 0.00784314, 0.        ,\n",
       "        0.        , 0.        , 0.        ],\n",
       "       [0.        , 0.        , 0.        , 0.        , 0.        ,\n",
       "        0.00392157, 0.        , 0.        , 0.54509804, 0.57254902,\n",
       "        0.50980392, 0.52941176, 0.52941176, 0.5372549 , 0.49019608,\n",
       "        0.48627451, 0.49019608, 0.4745098 , 0.46666667, 0.44705882,\n",
       "        0.50980392, 0.29803922, 0.        , 0.        , 0.        ,\n",
       "        0.        , 0.        , 0.        ]])"
      ]
     },
     "execution_count": 14,
     "metadata": {},
     "output_type": "execute_result"
    }
   ],
   "source": [
    "X_valid[1]"
   ]
  },
  {
   "cell_type": "markdown",
   "id": "5ae00553",
   "metadata": {},
   "source": [
    "# 26. More about test-train split\n",
    "\n",
    "Splitting the dataset into train, validation and test set is a very important step of the ML model building process. To learn more about this, check-out our video on __Why we split the data into Test, Train, and Validation sets__\n",
    "\n",
    "Here's the link to the video: https://www.youtube.com/watch?v=dbMHdPf7ong"
   ]
  },
  {
   "cell_type": "markdown",
   "id": "61eb6430",
   "metadata": {},
   "source": [
    "# 27. Different ways to create ANN using Keras"
   ]
  },
  {
   "cell_type": "markdown",
   "id": "76cc7e10",
   "metadata": {},
   "source": [
    "#### Create the Model Architecture\n",
    "\n",
    "There are two APIs for defining  model in Keras:\n",
    "- Sequential model API\n",
    "    - Layer by layer models\n",
    "- Functional API\n"
   ]
  },
  {
   "cell_type": "code",
   "execution_count": 15,
   "id": "3ac2fa3b",
   "metadata": {},
   "outputs": [
    {
     "data": {
      "image/jpeg": "[encoded data removed]",
      "text/plain": [
       "<IPython.core.display.Image object>"
      ]
     },
     "execution_count": 15,
     "metadata": {
      "image/jpeg": {
       "height": 400,
       "width": 400
      }
     },
     "output_type": "execute_result"
    }
   ],
   "source": [
    "from IPython.display import Image\n",
    "Image(\"images/sequential_api.jpg\", height=400, width=400)"
   ]
  },
  {
   "cell_type": "code",
   "execution_count": 16,
   "id": "d6e3ffd7",
   "metadata": {},
   "outputs": [
    {
     "data": {
      "image/jpeg": "[encoded data removed]",
      "text/plain": [
       "<IPython.core.display.Image object>"
      ]
     },
     "execution_count": 16,
     "metadata": {
      "image/jpeg": {
       "height": 300,
       "width": 300
      }
     },
     "output_type": "execute_result"
    }
   ],
   "source": [
    "Image(\"images/functional_api.jpg\", height=300, width=300)"
   ]
  },
  {
   "cell_type": "markdown",
   "id": "91d02a67",
   "metadata": {},
   "source": [
    "# 28. Building a NN using Keras"
   ]
  },
  {
   "cell_type": "code",
   "execution_count": 17,
   "id": "72c142d6",
   "metadata": {},
   "outputs": [],
   "source": [
    "# Inicializar semilla\n",
    "np.random.seed(42)\n",
    "#tensorflow\n",
    "tf.random.set_seed(42)"
   ]
  },
  {
   "cell_type": "code",
   "execution_count": 18,
   "id": "7632387d",
   "metadata": {},
   "outputs": [
    {
     "data": {
      "image/jpeg": "[encoded data removed]",
      "text/plain": [
       "<IPython.core.display.Image object>"
      ]
     },
     "execution_count": 18,
     "metadata": {
      "image/jpeg": {
       "height": 300,
       "width": 300
      }
     },
     "output_type": "execute_result"
    }
   ],
   "source": [
    "Image(\"images/img1.jpg\", height=300, width=300)"
   ]
  },
  {
   "cell_type": "code",
   "execution_count": 19,
   "id": "42a218cc",
   "metadata": {},
   "outputs": [],
   "source": [
    "# Tomando como referencia la imagen superior para crear la red neuronal (NN)\n",
    "model = keras.models.Sequential()\n",
    "model.add(keras.layers.Flatten(input_shape=[28,28])) # piexeles: 28x28\n",
    "model.add(keras.layers.Dense(300, activation=\"relu\")) # Nº neuronas: 300\n",
    "model.add(keras.layers.Dense(100, activation=\"relu\"))\n",
    "model.add(keras.layers.Dense(10, activation=\"softmax\")) # Nº categorias: 10\n",
    "\n",
    "# relu: 0 < 0 , value if  > 0"
   ]
  },
  {
   "cell_type": "code",
   "execution_count": 20,
   "id": "060bdbef",
   "metadata": {},
   "outputs": [
    {
     "name": "stdout",
     "output_type": "stream",
     "text": [
      "Model: \"sequential\"\n",
      "_________________________________________________________________\n",
      "Layer (type)                 Output Shape              Param #   \n",
      "=================================================================\n",
      "flatten (Flatten)            (None, 784)               0         \n",
      "_________________________________________________________________\n",
      "dense (Dense)                (None, 300)               235500    \n",
      "_________________________________________________________________\n",
      "dense_1 (Dense)              (None, 100)               30100     \n",
      "_________________________________________________________________\n",
      "dense_2 (Dense)              (None, 10)                1010      \n",
      "=================================================================\n",
      "Total params: 266,610\n",
      "Trainable params: 266,610\n",
      "Non-trainable params: 0\n",
      "_________________________________________________________________\n"
     ]
    }
   ],
   "source": [
    "# Resumen de la NN\n",
    "model.summary()"
   ]
  },
  {
   "cell_type": "code",
   "execution_count": 21,
   "id": "f646e5cc",
   "metadata": {},
   "outputs": [
    {
     "data": {
      "image/png": "[encoded data removed]",
      "text/plain": [
       "<IPython.core.display.Image object>"
      ]
     },
     "execution_count": 21,
     "metadata": {},
     "output_type": "execute_result"
    }
   ],
   "source": [
    "import pydot\n",
    "from tensorflow.keras.utils import plot_model\n",
    "\n",
    "# Visualizar la estructura de la NN\n",
    "keras.utils.plot_model(model)"
   ]
  },
  {
   "cell_type": "markdown",
   "id": "abd295b4",
   "metadata": {},
   "source": [
    "We can access the parameters using this method: __*get_weight()*__"
   ]
  },
  {
   "cell_type": "code",
   "execution_count": 76,
   "id": "135e9f0a",
   "metadata": {},
   "outputs": [],
   "source": [
    "weights, biases = model.layers[1].get_weights()"
   ]
  },
  {
   "cell_type": "code",
   "execution_count": 80,
   "id": "7cf54929",
   "metadata": {},
   "outputs": [
    {
     "data": {
      "text/plain": [
       "array([[ 0.02448617, -0.00877795, -0.02189048, ..., -0.02766046,\n",
       "         0.03859074, -0.06889391],\n",
       "       [ 0.00476504, -0.03105379, -0.0586676 , ...,  0.00602964,\n",
       "        -0.02763776, -0.04165364],\n",
       "       [-0.06189284, -0.06901957,  0.07102345, ..., -0.04238207,\n",
       "         0.07121518, -0.07331658],\n",
       "       ...,\n",
       "       [-0.03048757,  0.02155137, -0.05400612, ..., -0.00113463,\n",
       "         0.00228987,  0.05581069],\n",
       "       [ 0.07061854, -0.06960931,  0.07038955, ..., -0.00384101,\n",
       "         0.00034875,  0.02878492],\n",
       "       [-0.06022581,  0.01577859, -0.02585464, ..., -0.00527829,\n",
       "         0.00272203, -0.06793761]], dtype=float32)"
      ]
     },
     "execution_count": 80,
     "metadata": {},
     "output_type": "execute_result"
    }
   ],
   "source": [
    "# Valores iniciales aleatorios\n",
    "weights"
   ]
  },
  {
   "cell_type": "code",
   "execution_count": 78,
   "id": "0dc5a4e7",
   "metadata": {},
   "outputs": [
    {
     "data": {
      "text/plain": [
       "(784, 300)"
      ]
     },
     "execution_count": 78,
     "metadata": {},
     "output_type": "execute_result"
    }
   ],
   "source": [
    "weights.shape"
   ]
  },
  {
   "cell_type": "code",
   "execution_count": 79,
   "id": "0726b5b7",
   "metadata": {},
   "outputs": [
    {
     "data": {
      "text/plain": [
       "array([0., 0., 0., 0., 0., 0., 0., 0., 0., 0., 0., 0., 0., 0., 0., 0., 0.,\n",
       "       0., 0., 0., 0., 0., 0., 0., 0., 0., 0., 0., 0., 0., 0., 0., 0., 0.,\n",
       "       0., 0., 0., 0., 0., 0., 0., 0., 0., 0., 0., 0., 0., 0., 0., 0., 0.,\n",
       "       0., 0., 0., 0., 0., 0., 0., 0., 0., 0., 0., 0., 0., 0., 0., 0., 0.,\n",
       "       0., 0., 0., 0., 0., 0., 0., 0., 0., 0., 0., 0., 0., 0., 0., 0., 0.,\n",
       "       0., 0., 0., 0., 0., 0., 0., 0., 0., 0., 0., 0., 0., 0., 0., 0., 0.,\n",
       "       0., 0., 0., 0., 0., 0., 0., 0., 0., 0., 0., 0., 0., 0., 0., 0., 0.,\n",
       "       0., 0., 0., 0., 0., 0., 0., 0., 0., 0., 0., 0., 0., 0., 0., 0., 0.,\n",
       "       0., 0., 0., 0., 0., 0., 0., 0., 0., 0., 0., 0., 0., 0., 0., 0., 0.,\n",
       "       0., 0., 0., 0., 0., 0., 0., 0., 0., 0., 0., 0., 0., 0., 0., 0., 0.,\n",
       "       0., 0., 0., 0., 0., 0., 0., 0., 0., 0., 0., 0., 0., 0., 0., 0., 0.,\n",
       "       0., 0., 0., 0., 0., 0., 0., 0., 0., 0., 0., 0., 0., 0., 0., 0., 0.,\n",
       "       0., 0., 0., 0., 0., 0., 0., 0., 0., 0., 0., 0., 0., 0., 0., 0., 0.,\n",
       "       0., 0., 0., 0., 0., 0., 0., 0., 0., 0., 0., 0., 0., 0., 0., 0., 0.,\n",
       "       0., 0., 0., 0., 0., 0., 0., 0., 0., 0., 0., 0., 0., 0., 0., 0., 0.,\n",
       "       0., 0., 0., 0., 0., 0., 0., 0., 0., 0., 0., 0., 0., 0., 0., 0., 0.,\n",
       "       0., 0., 0., 0., 0., 0., 0., 0., 0., 0., 0., 0., 0., 0., 0., 0., 0.,\n",
       "       0., 0., 0., 0., 0., 0., 0., 0., 0., 0., 0.], dtype=float32)"
      ]
     },
     "execution_count": 79,
     "metadata": {},
     "output_type": "execute_result"
    }
   ],
   "source": [
    "biases"
   ]
  },
  {
   "cell_type": "code",
   "execution_count": 83,
   "id": "d6c8941e",
   "metadata": {},
   "outputs": [
    {
     "data": {
      "text/plain": [
       "(300,)"
      ]
     },
     "execution_count": 83,
     "metadata": {},
     "output_type": "execute_result"
    }
   ],
   "source": [
    "# hay 300 \n",
    "biases.shape"
   ]
  },
  {
   "cell_type": "markdown",
   "id": "74d6a9a8",
   "metadata": {},
   "source": [
    "# 29. Compiling and Training the NN model\n",
    "\n",
    "Documentation: \n",
    "\n",
    "- https://keras.io/api/models/sequential/\n",
    "\n",
    "- https://keras.io/api/models/model_training_apis/"
   ]
  },
  {
   "cell_type": "code",
   "execution_count": 85,
   "id": "239f0248",
   "metadata": {},
   "outputs": [],
   "source": [
    "model.compile(loss=\"sparse_categorical_crossentropy\",\n",
    "            optimizer=\"sgd\",\n",
    "            metrics=[\"accuracy\"])"
   ]
  },
  {
   "cell_type": "code",
   "execution_count": 86,
   "id": "e394063b",
   "metadata": {},
   "outputs": [
    {
     "name": "stdout",
     "output_type": "stream",
     "text": [
      "Train on 55000 samples, validate on 5000 samples\n",
      "Epoch 1/30\n",
      "55000/55000 [==============================] - 3s 52us/sample - loss: 0.7228 - accuracy: 0.7623 - val_loss: 0.5304 - val_accuracy: 0.8162\n",
      "Epoch 2/30\n",
      "55000/55000 [==============================] - 2s 44us/sample - loss: 0.4838 - accuracy: 0.8324 - val_loss: 0.4496 - val_accuracy: 0.8452\n",
      "Epoch 3/30\n",
      "55000/55000 [==============================] - 2s 42us/sample - loss: 0.4379 - accuracy: 0.8473 - val_loss: 0.4175 - val_accuracy: 0.8556\n",
      "Epoch 4/30\n",
      "55000/55000 [==============================] - 2s 43us/sample - loss: 0.4127 - accuracy: 0.8555 - val_loss: 0.3904 - val_accuracy: 0.8640\n",
      "Epoch 5/30\n",
      "55000/55000 [==============================] - 2s 42us/sample - loss: 0.3929 - accuracy: 0.8624 - val_loss: 0.3967 - val_accuracy: 0.8624\n",
      "Epoch 6/30\n",
      "55000/55000 [==============================] - 2s 42us/sample - loss: 0.3775 - accuracy: 0.8672 - val_loss: 0.3739 - val_accuracy: 0.8730\n",
      "Epoch 7/30\n",
      "55000/55000 [==============================] - 3s 46us/sample - loss: 0.3645 - accuracy: 0.8711 - val_loss: 0.3663 - val_accuracy: 0.8688\n",
      "Epoch 8/30\n",
      "55000/55000 [==============================] - 2s 44us/sample - loss: 0.3525 - accuracy: 0.8745 - val_loss: 0.3620 - val_accuracy: 0.8732\n",
      "Epoch 9/30\n",
      "55000/55000 [==============================] - 2s 43us/sample - loss: 0.3413 - accuracy: 0.8787 - val_loss: 0.3648 - val_accuracy: 0.8724\n",
      "Epoch 10/30\n",
      "55000/55000 [==============================] - ETA: 0s - loss: 0.3320 - accuracy: 0.88 - 2s 42us/sample - loss: 0.3323 - accuracy: 0.8817 - val_loss: 0.3486 - val_accuracy: 0.8786\n",
      "Epoch 11/30\n",
      "55000/55000 [==============================] - 2s 42us/sample - loss: 0.3248 - accuracy: 0.8838 - val_loss: 0.3376 - val_accuracy: 0.8796\n",
      "Epoch 12/30\n",
      "55000/55000 [==============================] - 2s 43us/sample - loss: 0.3171 - accuracy: 0.8861 - val_loss: 0.3407 - val_accuracy: 0.8788\n",
      "Epoch 13/30\n",
      "55000/55000 [==============================] - 2s 42us/sample - loss: 0.3093 - accuracy: 0.8885 - val_loss: 0.3291 - val_accuracy: 0.8834\n",
      "Epoch 14/30\n",
      "55000/55000 [==============================] - 3s 45us/sample - loss: 0.3030 - accuracy: 0.8916 - val_loss: 0.3231 - val_accuracy: 0.8838\n",
      "Epoch 15/30\n",
      "55000/55000 [==============================] - 3s 46us/sample - loss: 0.2960 - accuracy: 0.8941 - val_loss: 0.3246 - val_accuracy: 0.8852\n",
      "Epoch 16/30\n",
      "55000/55000 [==============================] - 2s 42us/sample - loss: 0.2897 - accuracy: 0.8952 - val_loss: 0.3293 - val_accuracy: 0.8794 0.\n",
      "Epoch 17/30\n",
      "55000/55000 [==============================] - 2s 40us/sample - loss: 0.2833 - accuracy: 0.8976 - val_loss: 0.3110 - val_accuracy: 0.8908\n",
      "Epoch 18/30\n",
      "55000/55000 [==============================] - 2s 39us/sample - loss: 0.2774 - accuracy: 0.9007 - val_loss: 0.3256 - val_accuracy: 0.8850\n",
      "Epoch 19/30\n",
      "55000/55000 [==============================] - ETA: 0s - loss: 0.2731 - accuracy: 0.9021 ETA: 1s - ETA: 0s - loss: 0.2742 - accuracy - ETA: 0s - loss: 0.2736 - accuracy: 0. - 2s 39us/sample - loss: 0.2732 - accuracy: 0.9021 - val_loss: 0.3526 - val_accuracy: 0.8684\n",
      "Epoch 20/30\n",
      "55000/55000 [==============================] - 2s 39us/sample - loss: 0.2683 - accuracy: 0.9030 - val_loss: 0.3018 - val_accuracy: 0.8908\n",
      "Epoch 21/30\n",
      "55000/55000 [==============================] - 2s 40us/sample - loss: 0.2628 - accuracy: 0.9060 - val_loss: 0.3167 - val_accuracy: 0.8860\n",
      "Epoch 22/30\n",
      "55000/55000 [==============================] - 2s 41us/sample - loss: 0.2587 - accuracy: 0.9061 - val_loss: 0.3146 - val_accuracy: 0.8868\n",
      "Epoch 23/30\n",
      "55000/55000 [==============================] - 2s 40us/sample - loss: 0.2547 - accuracy: 0.9080 - val_loss: 0.3049 - val_accuracy: 0.8920acy\n",
      "Epoch 24/30\n",
      "55000/55000 [==============================] - 2s 39us/sample - loss: 0.2485 - accuracy: 0.9101 - val_loss: 0.3020 - val_accuracy: 0.8922\n",
      "Epoch 25/30\n",
      "55000/55000 [==============================] - 2s 40us/sample - loss: 0.2453 - accuracy: 0.9121 - val_loss: 0.3085 - val_accuracy: 0.8898\n",
      "Epoch 26/30\n",
      "55000/55000 [==============================] - 2s 44us/sample - loss: 0.2409 - accuracy: 0.9149 - val_loss: 0.3195 - val_accuracy: 0.8826\n",
      "Epoch 27/30\n",
      "55000/55000 [==============================] - 2s 39us/sample - loss: 0.2362 - accuracy: 0.9149 - val_loss: 0.3001 - val_accuracy: 0.8898\n",
      "Epoch 28/30\n",
      "55000/55000 [==============================] - 2s 39us/sample - loss: 0.2330 - accuracy: 0.9164 - val_loss: 0.3022 - val_accuracy: 0.8928\n",
      "Epoch 29/30\n",
      "55000/55000 [==============================] - 3s 49us/sample - loss: 0.2289 - accuracy: 0.9179 - val_loss: 0.2980 - val_accuracy: 0.8936\n",
      "Epoch 30/30\n",
      "55000/55000 [==============================] - 2s 39us/sample - loss: 0.2251 - accuracy: 0.9185 - val_loss: 0.3298 - val_accuracy: 0.8824\n"
     ]
    }
   ],
   "source": [
    "model_history = model.fit(X_train, y_train, epochs=30,\n",
    "                         validation_data=(X_valid, y_valid))"
   ]
  },
  {
   "cell_type": "code",
   "execution_count": 87,
   "id": "9dc75e5c",
   "metadata": {},
   "outputs": [
    {
     "data": {
      "text/plain": [
       "{'batch_size': 32,\n",
       " 'epochs': 30,\n",
       " 'steps': 1719,\n",
       " 'samples': 55000,\n",
       " 'verbose': 0,\n",
       " 'do_validation': True,\n",
       " 'metrics': ['loss', 'accuracy', 'val_loss', 'val_accuracy']}"
      ]
     },
     "execution_count": 87,
     "metadata": {},
     "output_type": "execute_result"
    }
   ],
   "source": [
    "model_history.params"
   ]
  },
  {
   "cell_type": "code",
   "execution_count": 88,
   "id": "350e20a7",
   "metadata": {},
   "outputs": [
    {
     "data": {
      "text/plain": [
       "{'loss': [0.7227830873446031,\n",
       "  0.4837619955062866,\n",
       "  0.437924415510351,\n",
       "  0.41265280682823874,\n",
       "  0.39292922355044974,\n",
       "  0.37754713485891167,\n",
       "  0.36448877459222623,\n",
       "  0.35251923360824583,\n",
       "  0.3413097392949191,\n",
       "  0.33229932173382154,\n",
       "  0.32479410801367326,\n",
       "  0.3170517075538635,\n",
       "  0.3092748084740205,\n",
       "  0.3029885759050196,\n",
       "  0.29597848567529156,\n",
       "  0.2897433715885336,\n",
       "  0.2832835504076698,\n",
       "  0.27737163461663505,\n",
       "  0.2732134691433473,\n",
       "  0.26829786763624713,\n",
       "  0.2627848216793754,\n",
       "  0.2586718018293381,\n",
       "  0.25466173709089107,\n",
       "  0.24848230504122648,\n",
       "  0.24527347137819636,\n",
       "  0.24085766700397837,\n",
       "  0.23618670876242898,\n",
       "  0.23302527539946816,\n",
       "  0.22887409934347325,\n",
       "  0.22512044624957173],\n",
       " 'accuracy': [0.76232725,\n",
       "  0.8324182,\n",
       "  0.84729093,\n",
       "  0.8555091,\n",
       "  0.8624,\n",
       "  0.8672182,\n",
       "  0.87112725,\n",
       "  0.8745273,\n",
       "  0.8786909,\n",
       "  0.8816909,\n",
       "  0.8838,\n",
       "  0.8861455,\n",
       "  0.8885091,\n",
       "  0.8916,\n",
       "  0.8940727,\n",
       "  0.8952,\n",
       "  0.8975818,\n",
       "  0.90065455,\n",
       "  0.9020727,\n",
       "  0.9029818,\n",
       "  0.9060182,\n",
       "  0.9060909,\n",
       "  0.90803635,\n",
       "  0.9100909,\n",
       "  0.91214544,\n",
       "  0.9149455,\n",
       "  0.9149455,\n",
       "  0.9164182,\n",
       "  0.91792727,\n",
       "  0.9184545],\n",
       " 'val_loss': [0.5304037380695343,\n",
       "  0.4496204998254776,\n",
       "  0.417474723815918,\n",
       "  0.39044188303947447,\n",
       "  0.39666865663528444,\n",
       "  0.37390635476112366,\n",
       "  0.36627731102705,\n",
       "  0.3620262175798416,\n",
       "  0.3647946861982346,\n",
       "  0.3486362199783325,\n",
       "  0.33760655864477157,\n",
       "  0.34073996086120606,\n",
       "  0.3291056058526039,\n",
       "  0.32310582713484765,\n",
       "  0.3245970860719681,\n",
       "  0.32928647540211675,\n",
       "  0.3109682799637318,\n",
       "  0.3256079007148743,\n",
       "  0.3526402448654175,\n",
       "  0.3017666670441628,\n",
       "  0.3166516458570957,\n",
       "  0.3145787373661995,\n",
       "  0.30492796011567114,\n",
       "  0.3019565752565861,\n",
       "  0.30846351426243784,\n",
       "  0.3194696958303452,\n",
       "  0.30007536281347275,\n",
       "  0.30221959295272827,\n",
       "  0.298026660990715,\n",
       "  0.3297833023786545],\n",
       " 'val_accuracy': [0.8162,\n",
       "  0.8452,\n",
       "  0.8556,\n",
       "  0.864,\n",
       "  0.8624,\n",
       "  0.873,\n",
       "  0.8688,\n",
       "  0.8732,\n",
       "  0.8724,\n",
       "  0.8786,\n",
       "  0.8796,\n",
       "  0.8788,\n",
       "  0.8834,\n",
       "  0.8838,\n",
       "  0.8852,\n",
       "  0.8794,\n",
       "  0.8908,\n",
       "  0.885,\n",
       "  0.8684,\n",
       "  0.8908,\n",
       "  0.886,\n",
       "  0.8868,\n",
       "  0.892,\n",
       "  0.8922,\n",
       "  0.8898,\n",
       "  0.8826,\n",
       "  0.8898,\n",
       "  0.8928,\n",
       "  0.8936,\n",
       "  0.8824]}"
      ]
     },
     "execution_count": 88,
     "metadata": {},
     "output_type": "execute_result"
    }
   ],
   "source": [
    "model_history.history"
   ]
  },
  {
   "cell_type": "code",
   "execution_count": 91,
   "id": "86107101",
   "metadata": {},
   "outputs": [
    {
     "data": {
      "image/png": "[encoded data removed]",
      "text/plain": [
       "<Figure size 576x360 with 1 Axes>"
      ]
     },
     "metadata": {
      "needs_background": "light"
     },
     "output_type": "display_data"
    }
   ],
   "source": [
    "pd.DataFrame(model_history.history).plot(figsize=(8,5))\n",
    "plt.grid(True)\n",
    "plt.gca().set_ylim(0,1)\n",
    "plt.show()"
   ]
  }
 ],
 "metadata": {
  "kernelspec": {
   "display_name": "Python 3 (ipykernel)",
   "language": "python",
   "name": "python3"
  },
  "language_info": {
   "codemirror_mode": {
    "name": "ipython",
    "version": 3
   },
   "file_extension": ".py",
   "mimetype": "text/x-python",
   "name": "python",
   "nbconvert_exporter": "python",
   "pygments_lexer": "ipython3",
   "version": "3.7.13"
  }
 },
 "nbformat": 4,
 "nbformat_minor": 5
}
